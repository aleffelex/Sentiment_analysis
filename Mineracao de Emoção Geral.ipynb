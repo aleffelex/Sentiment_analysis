{
 "cells": [
  {
   "cell_type": "code",
   "execution_count": 1,
   "metadata": {},
   "outputs": [],
   "source": [
    "import numpy as np\n",
    "import matplotlib.pyplot as plt\n",
    "import nltk\n",
    "import re\n",
    "import pandas as pd\n",
    "from sklearn.feature_extraction.text import CountVectorizer\n",
    "from sklearn.naive_bayes import MultinomialNB\n",
    "from sklearn import metrics\n",
    "from sklearn.model_selection import cross_val_predict\n",
    "from sklearn.metrics import confusion_matrix\n",
    "from sklearn.utils.multiclass import unique_labels"
   ]
  },
  {
   "cell_type": "code",
   "execution_count": 2,
   "metadata": {},
   "outputs": [],
   "source": [
    "%matplotlib inline"
   ]
  },
  {
   "cell_type": "code",
   "execution_count": 3,
   "metadata": {},
   "outputs": [],
   "source": [
    "datasetB = pd.read_csv('tweets-total-csv-3-class-balanced.csv', encoding='ISO-8859-1', delimiter=';')\n",
    "dataset = pd.read_csv('tweets-total-csv-3-class-unbalanced.csv', encoding='ISO-8859-1', delimiter=';')"
   ]
  },
  {
   "cell_type": "code",
   "execution_count": 4,
   "metadata": {},
   "outputs": [],
   "source": [
    "tweets = dataset['tweet'].values\n",
    "classes = dataset['OPINIAO'].values\n",
    "tweetsB = datasetB['tweet'].values\n",
    "classesB = datasetB['OPINIAO'].values"
   ]
  },
  {
   "cell_type": "code",
   "execution_count": 5,
   "metadata": {},
   "outputs": [],
   "source": [
    "def Preprocessamento(instancia):\n",
    "    #remove links, pontos, virgulas,ponto e virgulas dos tweets\n",
    "    #coloca tudo em minusculo\n",
    "    fraseslimpas = []\n",
    "    for palavras in instancia:\n",
    "        palavras = re.sub(r\"http\\S+\", \"\", palavras).lower().replace(',','').replace('.','').replace(';','').replace('-','').replace(':','').replace('?','')\n",
    "        fraseslimpas.append(palavras)\n",
    "    return (fraseslimpas)"
   ]
  },
  {
   "cell_type": "code",
   "execution_count": 6,
   "metadata": {},
   "outputs": [],
   "source": [
    "def RemoveStopWords(instancia):\n",
    "    #remove stopwords\n",
    "    fraseslimpas = []\n",
    "    stopwords = set(nltk.corpus.stopwords.words('portuguese'))\n",
    "    stopwords.remove('não')\n",
    "    for palavras in instancia:\n",
    "        semstop = [p for p in palavras.split() if p not in stopwords]\n",
    "        fraseslimpas.append((str(semstop)))\n",
    "    return (fraseslimpas)"
   ]
  },
  {
   "cell_type": "code",
   "execution_count": 7,
   "metadata": {},
   "outputs": [],
   "source": [
    "def SteamingSemStopWords(instancia):\n",
    "    fraseslimpas = []\n",
    "    stemmer = nltk.stem.RSLPStemmer()\n",
    "    stopwords = set(nltk.corpus.stopwords.words('portuguese'))\n",
    "    stopwords.remove('não')\n",
    "    for palavras in instancia:\n",
    "        semstop = [str(stemmer.stem(p)) for p in palavras.split() if p not in stopwords]\n",
    "        fraseslimpas.append((str(semstop)))\n",
    "    return (fraseslimpas)"
   ]
  },
  {
   "cell_type": "code",
   "execution_count": 8,
   "metadata": {},
   "outputs": [],
   "source": [
    "tweetsprocessados = Preprocessamento(dataset['tweet'].values)\n",
    "tweetsSteaming = SteamingSemStopWords(tweetsprocessados)\n",
    "tweets = RemoveStopWords(tweetsprocessados)"
   ]
  },
  {
   "cell_type": "code",
   "execution_count": 9,
   "metadata": {},
   "outputs": [],
   "source": [
    "tweetsprocessados = Preprocessamento(datasetB['tweet'].values)\n",
    "tweetsSteamingB = SteamingSemStopWords(tweetsprocessados)\n",
    "tweetsB = RemoveStopWords(tweetsprocessados)"
   ]
  },
  {
   "cell_type": "code",
   "execution_count": 10,
   "metadata": {},
   "outputs": [
    {
     "name": "stdout",
     "output_type": "stream",
     "text": [
      "o #bancodobrasil já me deixou uma mensagem de parabéns o 1º\n",
      "['#bancodobrasil', 'deix', 'mens', 'parabém', '1º']\n",
      "['#bancodobrasil', 'deixou', 'mensagem', 'parabéns', '1º']\n"
     ]
    }
   ],
   "source": [
    "print(tweetsprocessados[1])\n",
    "print(tweetsSteaming[1])\n",
    "print(tweets[1])"
   ]
  },
  {
   "cell_type": "code",
   "execution_count": 11,
   "metadata": {},
   "outputs": [
    {
     "data": {
      "text/plain": [
       "MultinomialNB(alpha=1.0, class_prior=None, fit_prior=True)"
      ]
     },
     "execution_count": 11,
     "metadata": {},
     "output_type": "execute_result"
    }
   ],
   "source": [
    "vectorizer = CountVectorizer(analyzer=\"word\")\n",
    "freq_tweetsSB = vectorizer.fit_transform(tweetsSteamingB)\n",
    "freq_tweetsS = vectorizer.fit_transform(tweetsSteaming)\n",
    "freq_tweetsB = vectorizer.fit_transform(tweetsB)\n",
    "freq_tweets = vectorizer.fit_transform(tweets)\n",
    "\n",
    "modeloSteamingB = MultinomialNB()\n",
    "modeloSteaming = MultinomialNB()\n",
    "modeloB = MultinomialNB()\n",
    "modelo = MultinomialNB()\n",
    "\n",
    "modeloSteamingB.fit(freq_tweetsSB, classesB)\n",
    "modeloSteaming.fit(freq_tweetsS, classes)\n",
    "modeloB.fit(freq_tweetsB, classesB)\n",
    "modelo.fit(freq_tweets, classes)"
   ]
  },
  {
   "cell_type": "code",
   "execution_count": 12,
   "metadata": {},
   "outputs": [
    {
     "name": "stdout",
     "output_type": "stream",
     "text": [
      "[[0 0 0 ... 0 0 0]\n",
      " [0 0 0 ... 0 0 0]\n",
      " [0 0 0 ... 0 0 0]\n",
      " ...\n",
      " [0 0 0 ... 0 0 0]\n",
      " [0 0 0 ... 0 0 0]\n",
      " [0 0 0 ... 0 0 0]]\n"
     ]
    }
   ],
   "source": [
    "\n",
    "print(freq_tweetsB.toarray())"
   ]
  },
  {
   "cell_type": "code",
   "execution_count": 13,
   "metadata": {},
   "outputs": [
    {
     "name": "stdout",
     "output_type": "stream",
     "text": [
      "Balanceado\n",
      "Porcentagem de acerto Steaming: 76.907631 \n",
      "Porcentagem de acerto normal: 77.510040 \n",
      "Desbalanceado\n",
      "Porcentagem de acerto Steaming: 73.339941 \n",
      "Porcentagem de acerto normal: 73.587711 \n"
     ]
    }
   ],
   "source": [
    "resultadoSteamingB = cross_val_predict(modeloSteamingB, freq_tweetsSB, classesB, cv=100)\n",
    "resultadoSteaming = cross_val_predict(modeloSteaming, freq_tweetsS, classes, cv=100)\n",
    "resultadoB = cross_val_predict(modeloB, freq_tweetsB, classesB, cv=100)\n",
    "resultado = cross_val_predict(modelo, freq_tweets, classes, cv=100)\n",
    "print('Balanceado')\n",
    "print('Porcentagem de acerto Steaming: %f ' % (metrics.accuracy_score(classesB, resultadoSteamingB)*100))\n",
    "print('Porcentagem de acerto normal: %f ' % (metrics.accuracy_score(classesB, resultadoB)*100))\n",
    "print('Desbalanceado')\n",
    "print('Porcentagem de acerto Steaming: %f ' % (metrics.accuracy_score(classes, resultadoSteaming)*100))\n",
    "print('Porcentagem de acerto normal: %f ' % (metrics.accuracy_score(classes, resultado)*100))"
   ]
  },
  {
   "cell_type": "code",
   "execution_count": 14,
   "metadata": {},
   "outputs": [
    {
     "name": "stdout",
     "output_type": "stream",
     "text": [
      "Steaming Balanceado\n",
      "              precision    recall  f1-score   support\n",
      "\n",
      "    Positivo       0.68      0.67      0.67       166\n",
      "    Negativo       0.92      0.98      0.95       166\n",
      "      Neutro       0.70      0.66      0.68       166\n",
      "\n",
      "   micro avg       0.77      0.77      0.77       498\n",
      "   macro avg       0.76      0.77      0.77       498\n",
      "weighted avg       0.76      0.77      0.77       498\n",
      "\n",
      "Steaming Desbalanceado\n",
      "              precision    recall  f1-score   support\n",
      "\n",
      "    Positivo       0.31      0.22      0.26       166\n",
      "    Negativo       0.78      0.93      0.84      1299\n",
      "      Neutro       0.69      0.43      0.53       553\n",
      "\n",
      "   micro avg       0.73      0.73      0.73      2018\n",
      "   macro avg       0.59      0.53      0.54      2018\n",
      "weighted avg       0.71      0.73      0.71      2018\n",
      "\n",
      "Normal Balanceado\n",
      "              precision    recall  f1-score   support\n",
      "\n",
      "    Positivo       0.69      0.66      0.67       166\n",
      "    Negativo       0.93      0.98      0.96       166\n",
      "      Neutro       0.69      0.69      0.69       166\n",
      "\n",
      "   micro avg       0.78      0.78      0.78       498\n",
      "   macro avg       0.77      0.78      0.77       498\n",
      "weighted avg       0.77      0.78      0.77       498\n",
      "\n",
      "Normal Desbalanceado\n",
      "              precision    recall  f1-score   support\n",
      "\n",
      "    Positivo       0.32      0.25      0.28       166\n",
      "    Negativo       0.78      0.92      0.85      1299\n",
      "      Neutro       0.68      0.45      0.54       553\n",
      "\n",
      "   micro avg       0.74      0.74      0.74      2018\n",
      "   macro avg       0.59      0.54      0.56      2018\n",
      "weighted avg       0.72      0.74      0.72      2018\n",
      "\n"
     ]
    }
   ],
   "source": [
    "print('Steaming Balanceado')\n",
    "opiniao=['Positivo', 'Negativo', 'Neutro']\n",
    "print(metrics.classification_report(classesB,resultadoSteamingB,opiniao))\n",
    "print('Steaming Desbalanceado')\n",
    "print(metrics.classification_report(classes,resultadoSteaming,opiniao))\n",
    "print('Normal Balanceado')\n",
    "print(metrics.classification_report(classesB,resultadoB,opiniao))\n",
    "print('Normal Desbalanceado')\n",
    "print(metrics.classification_report(classes,resultado,opiniao))"
   ]
  },
  {
   "cell_type": "code",
   "execution_count": 15,
   "metadata": {},
   "outputs": [
    {
     "name": "stdout",
     "output_type": "stream",
     "text": [
      "Confusion matrix, without normalization\n",
      "Confusion matrix, without normalization\n",
      "Confusion matrix, without normalization\n",
      "Confusion matrix, without normalization\n"
     ]
    },
    {
     "data": {
      "image/png": "[encoded data removed]",
      "text/plain": [
       "<Figure size 432x288 with 2 Axes>"
      ]
     },
     "metadata": {
      "needs_background": "light"
     },
     "output_type": "display_data"
    },
    {
     "data": {
      "image/png": "[encoded data removed]",
      "text/plain": [
       "<Figure size 432x288 with 2 Axes>"
      ]
     },
     "metadata": {
      "needs_background": "light"
     },
     "output_type": "display_data"
    },
    {
     "data": {
      "image/png": "[encoded data removed]",
      "text/plain": [
       "<Figure size 432x288 with 2 Axes>"
      ]
     },
     "metadata": {
      "needs_background": "light"
     },
     "output_type": "display_data"
    },
    {
     "data": {
      "image/png": "[encoded data removed]",
      "text/plain": [
       "<Figure size 432x288 with 2 Axes>"
      ]
     },
     "metadata": {
      "needs_background": "light"
     },
     "output_type": "display_data"
    }
   ],
   "source": [
    "def plot_confusion_matrix(y_true, y_pred, classes, normalize=False, title=None, cmap=plt.cm.Blues):\n",
    "    \"\"\"\n",
    "    This function prints and plots the confusion matrix.\n",
    "    Normalization can be applied by setting `normalize=True`.\n",
    "    \"\"\"\n",
    "    if not title:\n",
    "        if normalize:\n",
    "            title = 'Normalized confusion matrix'\n",
    "        else:\n",
    "            title = 'Confusion matrix, without normalization'\n",
    " \n",
    "    # Compute confusion matrix\n",
    "    cm = confusion_matrix(y_true, y_pred)\n",
    "    # Only use the labels that appear in the data \n",
    "    classes = unique_labels(y_true, y_pred)\n",
    "    if normalize:\n",
    "        cm = cm.astype('float') / cm.sum(axis=1)[:, np.newaxis]\n",
    "        print(\"Normalized confusion matrix\")\n",
    "    else:\n",
    "        print('Confusion matrix, without normalization')\n",
    "\n",
    "    #print(cm)\n",
    "\n",
    "    fig, ax = plt.subplots()\n",
    "    im = ax.imshow(cm, interpolation='nearest', cmap=cmap)\n",
    "    ax.figure.colorbar(im, ax=ax)\n",
    "    # We want to show all ticks...\n",
    "    ax.set(xticks=np.arange(cm.shape[1]),\n",
    "           yticks=np.arange(cm.shape[0]),\n",
    "           # ... and label them with the respective list entries\n",
    "           xticklabels=classes, yticklabels=classes,\n",
    "           title=title,\n",
    "           ylabel='Real',\n",
    "           xlabel='Predito')\n",
    "\n",
    "    # Rotate the tick labels and set their alignment.\n",
    "    plt.setp(ax.get_xticklabels(), rotation=45, ha=\"right\",\n",
    "             rotation_mode=\"anchor\")\n",
    "\n",
    "    # Loop over data dimensions and create text annotations.\n",
    "    fmt = '.2f' if normalize else 'd'\n",
    "    thresh = cm.max() / 2.\n",
    "    for i in range(cm.shape[0]):\n",
    "        for j in range(cm.shape[1]):\n",
    "            ax.text(j, i, format(cm[i, j], fmt),\n",
    "                    ha=\"center\", va=\"center\",\n",
    "                    color=\"white\" if cm[i, j] > thresh else \"black\")\n",
    "    fig.tight_layout()\n",
    "    return ax\n",
    "\n",
    "\n",
    "np.set_printoptions(precision=2)\n",
    "\n",
    "# Plot non-normalized confusion matrix\n",
    "plot_confusion_matrix(classesB, resultadoSteamingB, classes=opiniao,\n",
    "                      title='Matriz de confusão: Steaming Balanceado')\n",
    "\n",
    "# Plot normalized confusion matrix\n",
    "plot_confusion_matrix(classes, resultadoSteaming, classes=opiniao,\n",
    "                      title='Matriz de confusão: Steaming Desbalanceado')\n",
    "\n",
    "plot_confusion_matrix(classesB, resultadoB, classes=opiniao,\n",
    "                      title='Matriz de confusão: Normal Balanceado')\n",
    "\n",
    "plot_confusion_matrix(classes, resultado, classes=opiniao,\n",
    "                      title='Matriz de confusão: Normal Desbalanceado')\n",
    "\n",
    "plt.show()"
   ]
  },
  {
   "cell_type": "code",
   "execution_count": 16,
   "metadata": {},
   "outputs": [],
   "source": [
    "def BuscaOpiniao(frase):\n",
    "    tweetsprocessados = Preprocessamento(frase)\n",
    "    tweets = RemoveStopWords(tweetsprocessados)\n",
    "    vectorizer.fit_transform(tweetsB)\n",
    "    freq_tweets = vectorizer.transform(tweets)\n",
    "    opniao = modeloB.predict(freq_tweets)\n",
    "    prob = modeloB.predict_proba(freq_tweets).max()\n",
    "    return opniao,prob"
   ]
  },
  {
   "cell_type": "code",
   "execution_count": 17,
   "metadata": {},
   "outputs": [],
   "source": [
    "datasetTest = pd.read_csv('DadosTest.csv', encoding='ISO-8859-1', delimiter=';')\n",
    "datasetClassificado = pd.DataFrame(columns=['Text','Opiniao','Probabilidade'])"
   ]
  },
  {
   "cell_type": "code",
   "execution_count": 18,
   "metadata": {},
   "outputs": [],
   "source": [
    "for text in datasetTest['Text']:\n",
    "    global opiniao\n",
    "    opiniao = BuscaOpiniao([text])\n",
    "    datasetClassificado = datasetClassificado.append({'Text':text,'Opiniao':opiniao[0][0],'Probabilidade':opiniao[1]}, ignore_index=True)"
   ]
  },
  {
   "cell_type": "code",
   "execution_count": 19,
   "metadata": {},
   "outputs": [],
   "source": [
    "datasetClassificado.to_excel('DadosClassificadosTest.xlsx')"
   ]
  },
  {
   "cell_type": "code",
   "execution_count": 20,
   "metadata": {},
   "outputs": [],
   "source": [
    "def BuscaProbabilidade(frase):\n",
    "    tweetsprocessados = Preprocessamento(frase)\n",
    "    print(tweetsprocessados)\n",
    "    tweets = RemoveStopWords(tweetsprocessados)\n",
    "    vectorizer.fit_transform(tweetsB)\n",
    "    freq_tweets = vectorizer.transform(tweets)\n",
    "    opniao = modeloB.predict(freq_tweets)\n",
    "    print(opniao)\n",
    "    prob = modeloB.predict_proba(freq_tweets)\n",
    "    print(modeloB.classes_)\n",
    "    print(prob)"
   ]
  },
  {
   "cell_type": "code",
   "execution_count": 25,
   "metadata": {},
   "outputs": [
    {
     "name": "stdout",
     "output_type": "stream",
     "text": [
      "['folha de são paulo não tem credibilidade com a maioria do povo brasileiro meu senador por muitas vezes se portar contra o brasil não perca o seu prestígio postando coisas que venham da folha tenha um bom dia senador']\n",
      "['Neutro']\n",
      "['Negativo' 'Neutro' 'Positivo']\n",
      "[[0.09 0.71 0.19]]\n"
     ]
    }
   ],
   "source": [
    "BuscaProbabilidade([datasetTest['Text'][0]])"
   ]
  },
  {
   "cell_type": "code",
   "execution_count": 22,
   "metadata": {},
   "outputs": [
    {
     "data": {
      "text/plain": [
       "0    Folha de São Paulo não tem credibilidade com a...\n",
       "1    Kkkkk apoio total a Moro!!!!!! Folha de São Pa...\n",
       "2    FALHA DE SÃO PAULO ATACANDO O INATACÁVEL! QUE ...\n",
       "Name: Text, dtype: object"
      ]
     },
     "execution_count": 22,
     "metadata": {},
     "output_type": "execute_result"
    }
   ],
   "source": [
    "datasetTest['Text']"
   ]
  }
 ],
 "metadata": {
  "kernelspec": {
   "display_name": "Python 3",
   "language": "python",
   "name": "python3"
  },
  "language_info": {
   "codemirror_mode": {
    "name": "ipython",
    "version": 3
   },
   "file_extension": ".py",
   "mimetype": "text/x-python",
   "name": "python",
   "nbconvert_exporter": "python",
   "pygments_lexer": "ipython3",
   "version": "3.7.3"
  }
 },
 "nbformat": 4,
 "nbformat_minor": 2
}
