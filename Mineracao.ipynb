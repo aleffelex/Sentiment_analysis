{
 "cells": [
  {
   "cell_type": "code",
   "execution_count": 81,
   "metadata": {},
   "outputs": [],
   "source": [
    "import numpy as np\n",
    "import nltk\n",
    "import re\n",
    "import pandas as pd\n",
    "from sklearn.feature_extraction.text import CountVectorizer\n",
    "from sklearn.naive_bayes import MultinomialNB\n",
    "from sklearn import metrics\n",
    "from sklearn.model_selection import cross_val_predict"
   ]
  },
  {
   "cell_type": "code",
   "execution_count": 96,
   "metadata": {},
   "outputs": [],
   "source": [
    "dataset = pd.read_csv('tweets-total-csv-3-class-balanced.csv', encoding='ISO-8859-1', delimiter=';')"
   ]
  },
  {
   "cell_type": "code",
   "execution_count": 97,
   "metadata": {},
   "outputs": [],
   "source": [
    "tweets = dataset['tweet'].values\n",
    "classes = dataset['OPINIAO'].values"
   ]
  },
  {
   "cell_type": "code",
   "execution_count": 98,
   "metadata": {},
   "outputs": [],
   "source": [
    "def Preprocessamento(instancia):\n",
    "    #remove links, pontos, virgulas,ponto e virgulas dos tweets\n",
    "    #coloca tudo em minusculo\n",
    "    fraseslimpas = []\n",
    "    for palavras in instancia:\n",
    "        palavras = re.sub(r\"http\\S+\", \"\", palavras).lower().replace(',','').replace('.','').replace(';','').replace('-','').replace(':','').replace('?','')\n",
    "        fraseslimpas.append(palavras)\n",
    "    return (fraseslimpas)"
   ]
  },
  {
   "cell_type": "code",
   "execution_count": 99,
   "metadata": {},
   "outputs": [],
   "source": [
    "def RemoveStopWords(instancia):\n",
    "    #remove stopwords\n",
    "    fraseslimpas = []\n",
    "    stopwords = set(nltk.corpus.stopwords.words('portuguese'))\n",
    "    stopwords.remove('não')\n",
    "    for palavras in instancia:\n",
    "        semstop = [p for p in palavras.split() if p not in stopwords]\n",
    "        fraseslimpas.append((str(semstop)))\n",
    "    return (fraseslimpas)"
   ]
  },
  {
   "cell_type": "code",
   "execution_count": 100,
   "metadata": {},
   "outputs": [],
   "source": [
    "def Steaming(instancia):\n",
    "    #remove stopwords\n",
    "    fraseslimpas = []\n",
    "    stemmer = nltk.stem.RSLPStemmer()\n",
    "    for palavras in instancia:\n",
    "        steam = [str(stemmer.stem(p)) for p in palavras.split()]\n",
    "        fraseslimpas.append((str(steam)))\n",
    "    return (fraseslimpas)"
   ]
  },
  {
   "cell_type": "code",
   "execution_count": 101,
   "metadata": {},
   "outputs": [],
   "source": [
    "#tweetsprocessadossteaming = Steaming(tweets)\n",
    "tweetsprocessados = Preprocessamento(tweets)\n",
    "removestopwords = RemoveStopWords(tweetsprocessados)"
   ]
  },
  {
   "cell_type": "code",
   "execution_count": 102,
   "metadata": {},
   "outputs": [
    {
     "name": "stdout",
     "output_type": "stream",
     "text": [
      "O #BancoDoBrasil já me deixou uma mensagem de parabéns. O 1º.\n",
      "o #bancodobrasil já me deixou uma mensagem de parabéns o 1º\n",
      "['#bancodobrasil', 'deixou', 'mensagem', 'parabéns', '1º']\n"
     ]
    }
   ],
   "source": [
    "print(tweets[1])\n",
    "print(tweetsprocessados[1])\n",
    "print(removestopwords[1])"
   ]
  },
  {
   "cell_type": "code",
   "execution_count": 103,
   "metadata": {},
   "outputs": [
    {
     "data": {
      "text/plain": [
       "MultinomialNB(alpha=1.0, class_prior=None, fit_prior=True)"
      ]
     },
     "execution_count": 103,
     "metadata": {},
     "output_type": "execute_result"
    }
   ],
   "source": [
    "vectorizer = CountVectorizer(analyzer=\"word\")\n",
    "freq_tweets = vectorizer.fit_transform(removestopwords)\n",
    "modelo = MultinomialNB()\n",
    "modelo.fit(freq_tweets, classes)"
   ]
  },
  {
   "cell_type": "code",
   "execution_count": 104,
   "metadata": {},
   "outputs": [
    {
     "name": "stdout",
     "output_type": "stream",
     "text": [
      "Porcentagem de acerto: 76.706827 \n"
     ]
    }
   ],
   "source": [
    "resultados = cross_val_predict(modelo, freq_tweets, classes, cv=50)\n",
    "\n",
    "print('Porcentagem de acerto: %f ' % (metrics.accuracy_score(classes, resultados)*100))"
   ]
  },
  {
   "cell_type": "code",
   "execution_count": 105,
   "metadata": {},
   "outputs": [
    {
     "name": "stdout",
     "output_type": "stream",
     "text": [
      "              precision    recall  f1-score   support\n",
      "\n",
      "    Positivo       0.68      0.64      0.66       166\n",
      "    Negativo       0.93      0.98      0.96       166\n",
      "      Neutro       0.68      0.68      0.68       166\n",
      "\n",
      "    accuracy                           0.77       498\n",
      "   macro avg       0.76      0.77      0.76       498\n",
      "weighted avg       0.76      0.77      0.76       498\n",
      "\n"
     ]
    }
   ],
   "source": [
    "opiniao=['Positivo', 'Negativo', 'Neutro']\n",
    "print(metrics.classification_report(classes,resultados,opiniao))"
   ]
  },
  {
   "cell_type": "code",
   "execution_count": 106,
   "metadata": {},
   "outputs": [],
   "source": [
    "dataset2 = pd.read_csv('Dados3.csv', encoding='ISO-8859-1', delimiter=';')"
   ]
  },
  {
   "cell_type": "code",
   "execution_count": 107,
   "metadata": {},
   "outputs": [],
   "source": [
    "tweets = dataset2['Text'].values\n",
    "classes = dataset2['Opniao'].values"
   ]
  },
  {
   "cell_type": "code",
   "execution_count": 108,
   "metadata": {},
   "outputs": [],
   "source": [
    "tweetsprocessados = Preprocessamento(tweets)\n",
    "removestopwords = RemoveStopWords(tweetsprocessados)"
   ]
  },
  {
   "cell_type": "code",
   "execution_count": 109,
   "metadata": {},
   "outputs": [
    {
     "name": "stdout",
     "output_type": "stream",
     "text": [
      "@senadorhumberto duas merdas pt e folha de são paulo  \n",
      "\n",
      "em breve não existirá nenhum \n",
      "['@senadorhumberto', 'duas', 'merdas', 'pt', 'folha', 'paulo', 'breve', 'não', 'existirá', 'nenhum']\n"
     ]
    }
   ],
   "source": [
    "print(tweetsprocessados[1])\n",
    "print(removestopwords[1])"
   ]
  },
  {
   "cell_type": "code",
   "execution_count": 110,
   "metadata": {},
   "outputs": [],
   "source": [
    "freq_tweets = vectorizer.transform(removestopwords)"
   ]
  },
  {
   "cell_type": "code",
   "execution_count": 111,
   "metadata": {},
   "outputs": [],
   "source": [
    "opniao = modelo.predict(freq_tweets)"
   ]
  },
  {
   "cell_type": "code",
   "execution_count": 112,
   "metadata": {},
   "outputs": [
    {
     "name": "stdout",
     "output_type": "stream",
     "text": [
      "Porcentagem de acerto: 46.428571 \n"
     ]
    }
   ],
   "source": [
    "print('Porcentagem de acerto: %f ' % (metrics.accuracy_score(classes, opniao)*100))"
   ]
  },
  {
   "cell_type": "code",
   "execution_count": 113,
   "metadata": {},
   "outputs": [
    {
     "name": "stdout",
     "output_type": "stream",
     "text": [
      "              precision    recall  f1-score   support\n",
      "\n",
      "    Positivo       0.17      0.25      0.20         4\n",
      "    Negativo       0.67      0.43      0.52        14\n",
      "      Neutro       0.46      0.60      0.52        10\n",
      "\n",
      "    accuracy                           0.46        28\n",
      "   macro avg       0.43      0.43      0.41        28\n",
      "weighted avg       0.52      0.46      0.48        28\n",
      "\n"
     ]
    }
   ],
   "source": [
    "tipo=['Positivo', 'Negativo', 'Neutro']\n",
    "print(metrics.classification_report(classes,opniao,tipo))"
   ]
  },
  {
   "cell_type": "code",
   "execution_count": 114,
   "metadata": {},
   "outputs": [
    {
     "name": "stdout",
     "output_type": "stream",
     "text": [
      "         | N   P |\n",
      "         | e   o |\n",
      "         | g N s |\n",
      "         | a e i |\n",
      "         | t u t |\n",
      "         | i t i |\n",
      "         | v r v |\n",
      "         | o o o |\n",
      "---------+-------+\n",
      "Negativo |<6>4 4 |\n",
      "  Neutro | 3<6>1 |\n",
      "Positivo | . 3<1>|\n",
      "---------+-------+\n",
      "(row = reference; col = test)\n",
      "\n"
     ]
    }
   ],
   "source": [
    "from nltk.metrics import ConfusionMatrix\n",
    "esperado = []\n",
    "previsto = []\n",
    "for opniao in opniao:\n",
    "    previsto.append(opniao)\n",
    "for classe in classes:\n",
    "    esperado.append(classe)    \n",
    "\n",
    "matriz = ConfusionMatrix(esperado, previsto)\n",
    "print(matriz)"
   ]
  },
  {
   "cell_type": "code",
   "execution_count": 115,
   "metadata": {},
   "outputs": [],
   "source": [
    "def BuscaOpiniao(frase):\n",
    "    tweetsprocessados = Preprocessamento(frase)\n",
    "    removestopwords = RemoveStopWords(tweetsprocessados)\n",
    "    freq_tweets = vectorizer.transform(removestopwords)\n",
    "    opniao = modelo.predict(freq_tweets)\n",
    "    prob = modelo.predict_proba(freq_tweets).max()\n",
    "    return opniao,prob"
   ]
  },
  {
   "cell_type": "code",
   "execution_count": 116,
   "metadata": {},
   "outputs": [],
   "source": [
    "dataset3 = pd.read_csv('Dados2.csv', encoding='ISO-8859-1', delimiter=';')\n",
    "datasetClassificado = pd.DataFrame(columns=['Text','Opiniao','Probabilidade'])"
   ]
  },
  {
   "cell_type": "code",
   "execution_count": 117,
   "metadata": {},
   "outputs": [],
   "source": [
    "for text in dataset3['Text']:\n",
    "    global opiniao\n",
    "    opiniao = BuscaOpiniao([text])\n",
    "    datasetClassificado = datasetClassificado.append({'Text':text,'Opiniao':opiniao[0][0],'Probabilidade':opiniao[1]}, ignore_index=True)"
   ]
  },
  {
   "cell_type": "code",
   "execution_count": 118,
   "metadata": {},
   "outputs": [],
   "source": [
    "datasetClassificado.to_excel('DadosClassificadosB.xlsx')"
   ]
  },
  {
   "cell_type": "code",
   "execution_count": null,
   "metadata": {},
   "outputs": [],
   "source": []
  }
 ],
 "metadata": {
  "kernelspec": {
   "display_name": "Python 3",
   "language": "python",
   "name": "python3"
  },
  "language_info": {
   "codemirror_mode": {
    "name": "ipython",
    "version": 3
   },
   "file_extension": ".py",
   "mimetype": "text/x-python",
   "name": "python",
   "nbconvert_exporter": "python",
   "pygments_lexer": "ipython3",
   "version": "3.7.3"
  }
 },
 "nbformat": 4,
 "nbformat_minor": 2
}
